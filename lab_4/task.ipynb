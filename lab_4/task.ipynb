{
 "cells": [
  {
   "cell_type": "code",
   "execution_count": 8,
   "metadata": {},
   "outputs": [
    {
     "name": "stdout",
     "output_type": "stream",
     "text": [
      "27                        Fortune, Mr. Charles Alexander\n",
      "88                            Fortune, Miss. Mabel Helen\n",
      "268        Graham, Mrs. William Thompson (Edith Junkins)\n",
      "269                               Bissette, Miss. Amelia\n",
      "297                         Allison, Miss. Helen Loraine\n",
      "305                       Allison, Master. Hudson Trevor\n",
      "318                             Wick, Miss. Mary Natalie\n",
      "332                            Graham, Mr. George Edward\n",
      "334    Frauenthal, Mrs. Henry William (Clara Heinshei...\n",
      "341                       Fortune, Miss. Alice Elizabeth\n",
      "390                           Carter, Mr. William Ernest\n",
      "435                            Carter, Miss. Lucile Polk\n",
      "438                                    Fortune, Mr. Mark\n",
      "498      Allison, Mrs. Hudson J C (Bessie Waldo Daniels)\n",
      "527                                   Farthing, Mr. John\n",
      "609                            Shutes, Miss. Elizabeth W\n",
      "660                        Frauenthal, Dr. Henry William\n",
      "689                    Madill, Miss. Georgette Alexandra\n",
      "708                                 Cleaver, Miss. Alice\n",
      "730                        Allen, Miss. Elisabeth Walton\n",
      "763            Carter, Mrs. William Ernest (Lucile Polk)\n",
      "779    Robert, Mrs. Edward Scott (Elisabeth Walton Mc...\n",
      "802                  Carter, Master. William Thornton II\n",
      "856           Wick, Mrs. George Dennick (Mary Hitchcock)\n",
      "Name: Name, dtype: object\n"
     ]
    }
   ],
   "source": [
    "import pandas as pd\n",
    "\n",
    "TitanicDataset = pd.read_csv('TitanicDataset.csv', sep=',', header=0)\n",
    "\n",
    "filtered_passengers = TitanicDataset[\n",
    "    (TitanicDataset['Pclass'].isin([1, 2])) &\n",
    "    (TitanicDataset['Embarked'] == 'S') &\n",
    "    (TitanicDataset['Fare'] > 100)\n",
    "]\n",
    "\n",
    "passanger_names = filtered_passengers['Name']\n",
    "print(passanger_names)"
   ]
  },
  {
   "cell_type": "code",
   "execution_count": 7,
   "metadata": {},
   "outputs": [
    {
     "name": "stdout",
     "output_type": "stream",
     "text": [
      "159           Sage, Master. Thomas Henry\n",
      "180         Sage, Miss. Constance Gladys\n",
      "201                  Sage, Mr. Frederick\n",
      "324             Sage, Mr. George John Jr\n",
      "792              Sage, Miss. Stella Anna\n",
      "846             Sage, Mr. Douglas Bullen\n",
      "863    Sage, Miss. Dorothy Edith \"Dolly\"\n",
      "Name: Name, dtype: object\n"
     ]
    }
   ],
   "source": [
    "import pandas as pd\n",
    "\n",
    "TitanicDataset = pd.read_csv('TitanicDataset.csv', sep=',', header=0)\n",
    "\n",
    "TitanicDataset['Relatives'] = TitanicDataset['SibSp'] + TitanicDataset['Parch']\n",
    "\n",
    "max_relatives = TitanicDataset['Relatives'].max()\n",
    "\n",
    "filtered_passengers = TitanicDataset[TitanicDataset['Relatives'] == max_relatives]\n",
    "\n",
    "passanger_names = filtered_passengers['Name']\n",
    "print(passanger_names)"
   ]
  },
  {
   "cell_type": "code",
   "execution_count": 5,
   "metadata": {},
   "outputs": [
    {
     "name": "stdout",
     "output_type": "stream",
     "text": [
      "196\n"
     ]
    }
   ],
   "source": [
    "import pandas as pd\n",
    "\n",
    "CrimesData = pd.read_excel(\"CrimesData.xlsx\", sheet_name=\"2012\", header=0)\n",
    "\n",
    "CrimesData['CrimeDate'] = pd.to_datetime(CrimesData['CrimeDate'])\n",
    "\n",
    "filtered_crime = CrimesData[(CrimesData['CrimeDate'].dt.year == 2012) & (CrimesData['CrimeDate'].dt.day == 1)]\n",
    "\n",
    "crime_count = len(filtered_crime)\n",
    "\n",
    "print(crime_count)"
   ]
  }
 ],
 "metadata": {
  "kernelspec": {
   "display_name": "Python 3",
   "language": "python",
   "name": "python3"
  },
  "language_info": {
   "codemirror_mode": {
    "name": "ipython",
    "version": 3
   },
   "file_extension": ".py",
   "mimetype": "text/x-python",
   "name": "python",
   "nbconvert_exporter": "python",
   "pygments_lexer": "ipython3",
   "version": "3.12.4"
  }
 },
 "nbformat": 4,
 "nbformat_minor": 2
}
