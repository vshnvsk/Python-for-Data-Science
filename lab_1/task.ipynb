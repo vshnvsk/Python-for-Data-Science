{
 "cells": [
  {
   "cell_type": "code",
   "execution_count": 4,
   "metadata": {},
   "outputs": [
    {
     "name": "stdout",
     "output_type": "stream",
     "text": [
      "cosh(5) = 74.20931127923512\n"
     ]
    }
   ],
   "source": [
    "import math\n",
    "\n",
    "def cosh_taylor(x, epsilon):\n",
    "    cosh_x = 1\n",
    "    term = 1\n",
    "    n = 2\n",
    "\n",
    "    while abs(term) > epsilon:\n",
    "        term = (x ** n) / math.factorial(n)\n",
    "        cosh_x += term\n",
    "        n += 2\n",
    "\n",
    "    return cosh_x\n",
    "\n",
    "\n",
    "x = 5\n",
    "epsilon = 0.01\n",
    "\n",
    "result = cosh_taylor(x, epsilon)\n",
    "print(f\"cosh({x}) = {result}\")"
   ]
  },
  {
   "cell_type": "code",
   "execution_count": 6,
   "metadata": {},
   "outputs": [
    {
     "name": "stdout",
     "output_type": "stream",
     "text": [
      "3\n"
     ]
    }
   ],
   "source": [
    "def find_min_odd(numbers):\n",
    "    min_value = numbers[0]\n",
    "\n",
    "    for i in range(0, len(numbers), 2):\n",
    "        if numbers[i] < min_value:\n",
    "            min_value = numbers[i]\n",
    "    \n",
    "    return min_value\n",
    "\n",
    "numbers = [9, 2, 3, 4, 5]\n",
    "result = find_min_odd(numbers)\n",
    "print(result)"
   ]
  },
  {
   "cell_type": "code",
   "execution_count": 9,
   "metadata": {},
   "outputs": [
    {
     "name": "stdout",
     "output_type": "stream",
     "text": [
      "foto, foto\n"
     ]
    }
   ],
   "source": [
    "def letter_change(words):\n",
    "    return words.lower().replace('ph', 'f')\n",
    "\n",
    "\n",
    "text = 'Photo, photo'\n",
    "result = letter_change(text)\n",
    "print(result)"
   ]
  }
 ],
 "metadata": {
  "kernelspec": {
   "display_name": "Python 3",
   "language": "python",
   "name": "python3"
  },
  "language_info": {
   "codemirror_mode": {
    "name": "ipython",
    "version": 3
   },
   "file_extension": ".py",
   "mimetype": "text/x-python",
   "name": "python",
   "nbconvert_exporter": "python",
   "pygments_lexer": "ipython3",
   "version": "3.12.4"
  }
 },
 "nbformat": 4,
 "nbformat_minor": 2
}
