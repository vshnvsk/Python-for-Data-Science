{
 "cells": [
  {
   "cell_type": "markdown",
   "id": "7e438d89",
   "metadata": {},
   "source": [
    "Згенегуємо два набори значень $x$ і $y$."
   ]
  },
  {
   "cell_type": "code",
   "execution_count": 8,
   "id": "fab206bb",
   "metadata": {},
   "outputs": [],
   "source": [
    "import numpy as np\n",
    "\n",
    "x = np.random.uniform(0, 100, 100)\n",
    "y = 2 * x + 1 + np.random.randint(0, 25, 100)"
   ]
  },
  {
   "cell_type": "code",
   "execution_count": 9,
   "id": "e2c930bb",
   "metadata": {},
   "outputs": [
    {
     "data": {
      "text/plain": [
       "<matplotlib.collections.PathCollection at 0x190fba967f0>"
      ]
     },
     "execution_count": 9,
     "metadata": {},
     "output_type": "execute_result"
    },
    {
     "data": {
      "image/png": "[encoded data removed]",
      "text/plain": [
       "<Figure size 432x288 with 1 Axes>"
      ]
     },
     "metadata": {
      "needs_background": "light"
     },
     "output_type": "display_data"
    }
   ],
   "source": [
    "from matplotlib import pyplot as plt\n",
    "\n",
    "plt.scatter(x, y)"
   ]
  },
  {
   "cell_type": "markdown",
   "id": "b0e2dd00",
   "metadata": {},
   "source": [
    "### Завдання."
   ]
  },
  {
   "cell_type": "markdown",
   "id": "8d7ce08f",
   "metadata": {},
   "source": [
    "1) Знайти значення коефіцієнтів рівняння лінійної регресії $\\beta_0$ та $\\beta_1$:\n",
    "\n",
    "    a) за допомогою формул з підручника (ТЙМС- II.pdf, сторінка 190 - 194);\n",
    "\n",
    "    b) за допомогою методу градієнтного спуска для мінімазації фунції \n",
    "$$f = \\frac{1}{n}\\sum_{i=1}^{n}{(y_{i} - (\\beta_0 + \\beta_1 x_{i}))^{2}};$$ \n",
    "\n",
    "    c) за допомогою моделі sklearn.linear_model.LinearRegression;\n",
    "\n",
    "2) Знайти передбачення для значення змінної $x$, що рівне 120. "
   ]
  },
  {
   "cell_type": "markdown",
   "id": "12d14ebf",
   "metadata": {},
   "source": [
    "Формули з підручника:"
   ]
  },
  {
   "attachments": {
    "formul.png": {
     "image/png": "[encoded data removed]"
    }
   },
   "cell_type": "markdown",
   "id": "4a3da983",
   "metadata": {},
   "source": [
    "![formul.png](attachment:formul.png)"
   ]
  },
  {
   "cell_type": "code",
   "execution_count": 5,
   "id": "32530778",
   "metadata": {},
   "outputs": [
    {
     "name": "stdout",
     "output_type": "stream",
     "text": [
      "Аналітичні коефіцієнти: β0 = 13.1809, β1 = 2.0036\n"
     ]
    }
   ],
   "source": [
    "import numpy as np\n",
    "\n",
    "np.random.seed(0) \n",
    "x = np.random.uniform(0, 100, 100)\n",
    "y = 2 * x + 1 + np.random.randint(0, 25, 100)\n",
    "\n",
    "n = len(x)\n",
    "\n",
    "x_bar = np.mean(x)\n",
    "y_bar = np.mean(y)\n",
    "\n",
    "beta_1 = (np.mean(x * y) - x_bar * y_bar) / (np.mean(x**2) - x_bar**2)\n",
    "beta_0 = y_bar - beta_1 * x_bar\n",
    "\n",
    "print(f\"Аналітичні коефіцієнти: β0 = {beta_0:.4f}, β1 = {beta_1:.4f}\")"
   ]
  },
  {
   "cell_type": "code",
   "execution_count": 46,
   "id": "bcbb660f",
   "metadata": {},
   "outputs": [
    {
     "name": "stdout",
     "output_type": "stream",
     "text": [
      "Градієнтні коефіцієнти: β0 = 13.1809, β1 = 2.0036\n"
     ]
    }
   ],
   "source": [
    "import numpy as np\n",
    "\n",
    "np.random.seed(0)\n",
    "x = np.random.uniform(0, 100, 100)\n",
    "y = 2 * x + 1 + np.random.randint(0, 25, 100)\n",
    "\n",
    "x_mean, x_std = np.mean(x), np.std(x)\n",
    "y_mean, y_std = np.mean(y), np.std(y)\n",
    "x_scaled = (x - x_mean) / x_std\n",
    "y_scaled = (y - y_mean) / y_std\n",
    "\n",
    "learning_rate = 0.0001\n",
    "iterations = 100000\n",
    "n = len(x)\n",
    "\n",
    "beta_0 = 0\n",
    "beta_1 = 0\n",
    "\n",
    "for _ in range(iterations):\n",
    "    y_pred = beta_0 + beta_1 * x_scaled\n",
    "    \n",
    "    d_beta_0 = -2 / n * np.sum(y_scaled - y_pred)\n",
    "    d_beta_1 = -2 / n * np.sum((y_scaled - y_pred) * x_scaled)\n",
    "    \n",
    "    beta_0 -= learning_rate * d_beta_0\n",
    "    beta_1 -= learning_rate * d_beta_1\n",
    "    \n",
    "    if np.isnan(beta_0) or np.isnan(beta_1):\n",
    "        raise ValueError(\"NaN value encountered in parameters.\")\n",
    "\n",
    "beta_0 = beta_0 * y_std + y_mean - beta_1 * x_mean * y_std / x_std\n",
    "beta_1 = beta_1 * y_std / x_std\n",
    "\n",
    "print(f\"Градієнтні коефіцієнти: β0 = {beta_0:.4f}, β1 = {beta_1:.4f}\")"
   ]
  },
  {
   "cell_type": "code",
   "execution_count": 44,
   "id": "625d2e69",
   "metadata": {},
   "outputs": [
    {
     "name": "stdout",
     "output_type": "stream",
     "text": [
      "Коефіцієнти sklearn: β0 = 13.1809, β1 = 2.0036\n"
     ]
    }
   ],
   "source": [
    "import numpy as np\n",
    "from sklearn.linear_model import LinearRegression\n",
    "\n",
    "np.random.seed(0)\n",
    "x = np.random.uniform(0, 100, 100)\n",
    "y = 2 * x + 1 + np.random.randint(0, 25, 100)\n",
    "\n",
    "x = x.reshape(-1, 1)\n",
    "\n",
    "model = LinearRegression()\n",
    "model.fit(x, y)\n",
    "\n",
    "beta_0 = model.intercept_\n",
    "beta_1 = model.coef_[0]\n",
    "\n",
    "print(f\"Коефіцієнти sklearn: β0 = {beta_0:.4f}, β1 = {beta_1:.4f}\")\n"
   ]
  },
  {
   "cell_type": "code",
   "execution_count": 11,
   "id": "2acc7732",
   "metadata": {},
   "outputs": [
    {
     "name": "stdout",
     "output_type": "stream",
     "text": [
      "Передбачення для x = 120: y = 253.6101\n"
     ]
    }
   ],
   "source": [
    "x_pred = 120\n",
    "\n",
    "y_pred = beta_0 + beta_1 * x_pred\n",
    "print(f\"Передбачення для x = {x_pred}: y = {y_pred:.4f}\")"
   ]
  }
 ],
 "metadata": {
  "kernelspec": {
   "display_name": "Python 3 (ipykernel)",
   "language": "python",
   "name": "python3"
  },
  "language_info": {
   "codemirror_mode": {
    "name": "ipython",
    "version": 3
   },
   "file_extension": ".py",
   "mimetype": "text/x-python",
   "name": "python",
   "nbconvert_exporter": "python",
   "pygments_lexer": "ipython3",
   "version": "3.12.4"
  }
 },
 "nbformat": 4,
 "nbformat_minor": 5
}
