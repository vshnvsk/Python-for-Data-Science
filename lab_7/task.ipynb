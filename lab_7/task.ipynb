{
 "cells": [
  {
   "cell_type": "code",
   "execution_count": 6,
   "metadata": {},
   "outputs": [
    {
     "name": "stdout",
     "output_type": "stream",
     "text": [
      "0.92932\n"
     ]
    }
   ],
   "source": [
    "import numpy as np\n",
    "\n",
    "n = 12\n",
    "p = 0.8\n",
    "k = 8\n",
    "\n",
    "x = np.random.binomial(n, p, 100000)\n",
    "probability = np.mean(x >= k)\n",
    "\n",
    "print(probability)\n"
   ]
  },
  {
   "cell_type": "code",
   "execution_count": 7,
   "metadata": {},
   "outputs": [
    {
     "name": "stdout",
     "output_type": "stream",
     "text": [
      "0.75824\n"
     ]
    }
   ],
   "source": [
    "import numpy as np\n",
    "\n",
    "lambda_4_min = 12\n",
    "k = 10\n",
    "\n",
    "x = np.random.poisson(lambda_4_min, 100000)\n",
    "probability = np.mean(x >= k)\n",
    "\n",
    "print(probability)\n"
   ]
  },
  {
   "cell_type": "code",
   "execution_count": 8,
   "metadata": {},
   "outputs": [
    {
     "name": "stdout",
     "output_type": "stream",
     "text": [
      "0.8714\n"
     ]
    }
   ],
   "source": [
    "import numpy as np\n",
    "\n",
    "mu = 11.5\n",
    "sigma = 3\n",
    "lower = 4\n",
    "upper = 15\n",
    "\n",
    "x = np.random.normal(loc=mu, scale=sigma, size=100000)\n",
    "probability = np.mean((x > lower) & (x < upper))\n",
    "\n",
    "print(probability)"
   ]
  },
  {
   "cell_type": "code",
   "execution_count": 10,
   "metadata": {},
   "outputs": [
    {
     "name": "stdout",
     "output_type": "stream",
     "text": [
      "0.36483\n"
     ]
    }
   ],
   "source": [
    "import numpy as np\n",
    "\n",
    "low = 0\n",
    "high = 110\n",
    "lower = 55\n",
    "upper = 95\n",
    "\n",
    "x = np.random.uniform(low, high, 100000)\n",
    "probability = np.mean((x > lower) & (x < upper))\n",
    "\n",
    "print(probability)"
   ]
  }
 ],
 "metadata": {
  "kernelspec": {
   "display_name": "Python 3",
   "language": "python",
   "name": "python3"
  },
  "language_info": {
   "codemirror_mode": {
    "name": "ipython",
    "version": 3
   },
   "file_extension": ".py",
   "mimetype": "text/x-python",
   "name": "python",
   "nbconvert_exporter": "python",
   "pygments_lexer": "ipython3",
   "version": "3.12.4"
  }
 },
 "nbformat": 4,
 "nbformat_minor": 2
}
