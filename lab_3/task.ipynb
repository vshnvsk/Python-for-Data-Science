{
 "cells": [
  {
   "cell_type": "code",
   "execution_count": 7,
   "metadata": {},
   "outputs": [
    {
     "name": "stdout",
     "output_type": "stream",
     "text": [
      "10.28\n"
     ]
    }
   ],
   "source": [
    "import numpy as np\n",
    "\n",
    "x = np.array([1, 3, 5 ,6, 7, 9, 12])\n",
    "\n",
    "n = len(x)\n",
    "indices = np.arange(1, n + 1)\n",
    "\n",
    "result = np.sum(x / indices)\n",
    "\n",
    "print(round(result, 2))"
   ]
  },
  {
   "cell_type": "code",
   "execution_count": 8,
   "metadata": {},
   "outputs": [
    {
     "name": "stdout",
     "output_type": "stream",
     "text": [
      "x1 =  0.0\n",
      "x2 =  1.0\n",
      "x3 =  1.0\n"
     ]
    }
   ],
   "source": [
    "import numpy as np\n",
    "\n",
    "A = np.array([[-4, -3, 2],\n",
    "              [5, 1, -1],\n",
    "              [3, 1, -5]])\n",
    "\n",
    "b = np.array([-1, 0, -4])\n",
    "\n",
    "x = np.linalg.solve(A, b)\n",
    "\n",
    "print(\"x1 = \", x[0])\n",
    "print(\"x2 = \", x[1])\n",
    "print(\"x3 = \", x[2])"
   ]
  }
 ],
 "metadata": {
  "kernelspec": {
   "display_name": "Python 3",
   "language": "python",
   "name": "python3"
  },
  "language_info": {
   "codemirror_mode": {
    "name": "ipython",
    "version": 3
   },
   "file_extension": ".py",
   "mimetype": "text/x-python",
   "name": "python",
   "nbconvert_exporter": "python",
   "pygments_lexer": "ipython3",
   "version": "3.12.4"
  }
 },
 "nbformat": 4,
 "nbformat_minor": 2
}
