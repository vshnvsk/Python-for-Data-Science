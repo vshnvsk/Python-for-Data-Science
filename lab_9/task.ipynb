{
 "cells": [
  {
   "cell_type": "code",
   "execution_count": 3,
   "metadata": {},
   "outputs": [
    {
     "name": "stdout",
     "output_type": "stream",
     "text": [
      "Logistic Regression Accuracy: 0.7695\n",
      "SVM Accuracy: 0.7747\n",
      "k-Means Accuracy: 0.6510\n"
     ]
    }
   ],
   "source": [
    "import pandas as pd\n",
    "from sklearn.model_selection import train_test_split, cross_val_score, KFold\n",
    "from sklearn.preprocessing import StandardScaler\n",
    "from sklearn.linear_model import LogisticRegression\n",
    "from sklearn.svm import SVC\n",
    "from sklearn.cluster import KMeans\n",
    "from sklearn.metrics import accuracy_score\n",
    "\n",
    "data = pd.read_csv('diabetes.csv')\n",
    "\n",
    "X = data.iloc[:, :-1]\n",
    "y = data.iloc[:, -1]\n",
    "\n",
    "scaler = StandardScaler()\n",
    "X_scaled = scaler.fit_transform(X)\n",
    "\n",
    "models = {\n",
    "    'Logistic Regression': LogisticRegression(),\n",
    "    'SVM': SVC(),\n",
    "    'k-Means': KMeans(n_clusters=2)\n",
    "}\n",
    "\n",
    "kf = KFold(n_splits=4, shuffle=True, random_state=1)\n",
    "\n",
    "for name, model in models.items():\n",
    "    if name == 'k-Means':\n",
    "        model.fit(X_scaled)\n",
    "        y_pred = model.predict(X_scaled)\n",
    "        y_pred = (y_pred == y_pred.mean()).astype(int)\n",
    "        accuracy = accuracy_score(y, y_pred)\n",
    "    else:\n",
    "        scores = cross_val_score(model, X_scaled, y, cv=kf, scoring='accuracy')\n",
    "        accuracy = scores.mean()\n",
    "    \n",
    "    print(f'{name} Accuracy: {accuracy:.4f}')\n"
   ]
  }
 ],
 "metadata": {
  "kernelspec": {
   "display_name": "Python 3",
   "language": "python",
   "name": "python3"
  },
  "language_info": {
   "codemirror_mode": {
    "name": "ipython",
    "version": 3
   },
   "file_extension": ".py",
   "mimetype": "text/x-python",
   "name": "python",
   "nbconvert_exporter": "python",
   "pygments_lexer": "ipython3",
   "version": "3.12.4"
  }
 },
 "nbformat": 4,
 "nbformat_minor": 2
}
